{
 "cells": [
  {
   "cell_type": "code",
   "execution_count": 2,
   "metadata": {},
   "outputs": [
    {
     "data": {
      "text/plain": [
       "'1.1.1'"
      ]
     },
     "execution_count": 2,
     "metadata": {},
     "output_type": "execute_result"
    }
   ],
   "source": [
    "import pandas as pd\n",
    "pd.__version__"
   ]
  },
  {
   "cell_type": "code",
   "execution_count": 3,
   "metadata": {},
   "outputs": [],
   "source": [
    "sGenes = pd.read_csv(\"sGenes.csv\", header=0, index_col=0, quotechar='\"', sep=\",\", na_values=[\"nan\", \"-\", \".\", \" \", \"\", \"NA\"], delimiter=',')\n",
    "#sGenes.head()"
   ]
  },
  {
   "cell_type": "code",
   "execution_count": 3,
   "metadata": {},
   "outputs": [
    {
     "data": {
      "text/plain": [
       "(11249, 24)"
      ]
     },
     "execution_count": 3,
     "metadata": {},
     "output_type": "execute_result"
    }
   ],
   "source": [
    "sGenes.shape"
   ]
  },
  {
   "cell_type": "code",
   "execution_count": 4,
   "metadata": {},
   "outputs": [],
   "source": [
    "# I needed a file which has geneIDs to retrieve the homoeolog genes from Biomart\n",
    "sGenes.GeneID.to_csv('sgenes.txt', index=False)\n",
    "#for i in sGenes.GeneID.unique():\n",
    "    #print(i)"
   ]
  },
  {
   "cell_type": "code",
   "execution_count": 5,
   "metadata": {},
   "outputs": [
    {
     "data": {
      "text/plain": [
       "intron                 object\n",
       "AA                      int64\n",
       "BB                      int64\n",
       "A.pheno.mean          float64\n",
       "B.pheno.mean          float64\n",
       "effect                 object\n",
       "intron_chr             object\n",
       "intron_start            int64\n",
       "intron_end              int64\n",
       "qtl_chr                object\n",
       "qtl_start(bp)         float64\n",
       "qtl_end(bp)           float64\n",
       "lod                   float64\n",
       "intron_regions(bp)     object\n",
       "qtl_regions(bp)        object\n",
       "GeneID                 object\n",
       "qtl_pos(cM)           float64\n",
       "ci_lo(cM)             float64\n",
       "ci_hi(cM)             float64\n",
       "qtl_loc_pos            object\n",
       "qtl_loc(ci_lo/hi)      object\n",
       "clusterID              object\n",
       "qtl_type               object\n",
       "additive_effect       float64\n",
       "dtype: object"
      ]
     },
     "execution_count": 5,
     "metadata": {},
     "output_type": "execute_result"
    }
   ],
   "source": [
    "sGenes.dtypes"
   ]
  },
  {
   "cell_type": "code",
   "execution_count": 6,
   "metadata": {},
   "outputs": [
    {
     "data": {
      "text/plain": [
       "intron                   0\n",
       "AA                       0\n",
       "BB                       0\n",
       "A.pheno.mean           484\n",
       "B.pheno.mean             0\n",
       "effect                 484\n",
       "intron_chr               0\n",
       "intron_start             0\n",
       "intron_end               0\n",
       "qtl_chr                  0\n",
       "qtl_start(bp)         1104\n",
       "qtl_end(bp)           1104\n",
       "lod                      0\n",
       "intron_regions(bp)       0\n",
       "qtl_regions(bp)          0\n",
       "GeneID                   0\n",
       "qtl_pos(cM)              0\n",
       "ci_lo(cM)                0\n",
       "ci_hi(cM)                0\n",
       "qtl_loc_pos              0\n",
       "qtl_loc(ci_lo/hi)        0\n",
       "clusterID                0\n",
       "qtl_type               173\n",
       "additive_effect        484\n",
       "dtype: int64"
      ]
     },
     "execution_count": 6,
     "metadata": {},
     "output_type": "execute_result"
    }
   ],
   "source": [
    "sGenes.isnull().sum()"
   ]
  },
  {
   "cell_type": "code",
   "execution_count": 33,
   "metadata": {},
   "outputs": [],
   "source": [
    "sGenes = sGenes.fillna(\"NA\")\n",
    "#sGenes"
   ]
  },
  {
   "cell_type": "code",
   "execution_count": 8,
   "metadata": {},
   "outputs": [
    {
     "name": "stdout",
     "output_type": "stream",
     "text": [
      "intron                0\n",
      "AA                    0\n",
      "BB                    0\n",
      "A.pheno.mean          0\n",
      "B.pheno.mean          0\n",
      "effect                0\n",
      "intron_chr            0\n",
      "intron_start          0\n",
      "intron_end            0\n",
      "qtl_chr               0\n",
      "qtl_start(bp)         0\n",
      "qtl_end(bp)           0\n",
      "lod                   0\n",
      "intron_regions(bp)    0\n",
      "qtl_regions(bp)       0\n",
      "GeneID                0\n",
      "qtl_pos(cM)           0\n",
      "ci_lo(cM)             0\n",
      "ci_hi(cM)             0\n",
      "qtl_loc_pos           0\n",
      "qtl_loc(ci_lo/hi)     0\n",
      "clusterID             0\n",
      "qtl_type              0\n",
      "additive_effect       0\n",
      "dtype: int64\n"
     ]
    }
   ],
   "source": [
    "print(sGenes.isnull().sum())"
   ]
  },
  {
   "cell_type": "code",
   "execution_count": 9,
   "metadata": {},
   "outputs": [],
   "source": [
    "DEGs = []\n",
    "keys = sGenes.to_dict('records')"
   ]
  },
  {
   "cell_type": "code",
   "execution_count": 10,
   "metadata": {},
   "outputs": [
    {
     "data": {
      "text/plain": [
       "Index(['intron', 'AA', 'BB', 'A.pheno.mean', 'B.pheno.mean', 'effect',\n",
       "       'intron_chr', 'intron_start', 'intron_end', 'qtl_chr', 'qtl_start(bp)',\n",
       "       'qtl_end(bp)', 'lod', 'intron_regions(bp)', 'qtl_regions(bp)', 'GeneID',\n",
       "       'qtl_pos(cM)', 'ci_lo(cM)', 'ci_hi(cM)', 'qtl_loc_pos',\n",
       "       'qtl_loc(ci_lo/hi)', 'clusterID', 'qtl_type', 'additive_effect'],\n",
       "      dtype='object')"
      ]
     },
     "execution_count": 10,
     "metadata": {},
     "output_type": "execute_result"
    }
   ],
   "source": [
    "sGenes.columns"
   ]
  },
  {
   "cell_type": "code",
   "execution_count": 4,
   "metadata": {},
   "outputs": [],
   "source": [
    "sGenes_loc = sGenes[[\"GeneID\", \"qtl_loc(ci_lo/hi)\"]]\n",
    "#sGenes_loc"
   ]
  },
  {
   "cell_type": "code",
   "execution_count": 5,
   "metadata": {},
   "outputs": [],
   "source": [
    "sGenes_loc.columns = ['Genes', 'location']\n",
    "#sGenes_loc.drop_duplicates()"
   ]
  },
  {
   "cell_type": "code",
   "execution_count": 6,
   "metadata": {},
   "outputs": [],
   "source": [
    "sqtl={}\n",
    "for i in range(len(sGenes_loc.location.unique())): \n",
    "    keys = sGenes_loc.location.unique()\n",
    "    subset = sGenes_loc.loc[sGenes_loc[\"location\"] == keys[i]]\n",
    "    values = subset[\"Genes\"].tolist()\n",
    "    values = set(values)\n",
    "    sqtl[keys[i]] = values   "
   ]
  },
  {
   "cell_type": "code",
   "execution_count": 9,
   "metadata": {},
   "outputs": [],
   "source": [
    "sqtl = dict(sorted(sqtl.items()))\n",
    "#sqtl\n",
    "#print(list(sqtl.keys())[11]) \n",
    "#list(sqtl.values())[11] "
   ]
  },
  {
   "cell_type": "code",
   "execution_count": 10,
   "metadata": {},
   "outputs": [],
   "source": [
    "#sqtl[\"2B:0:107.38738\"]"
   ]
  },
  {
   "cell_type": "code",
   "execution_count": 11,
   "metadata": {},
   "outputs": [],
   "source": [
    "#for x in sqtl[\"4B:0:0\"]:\n",
    "    #print(x)"
   ]
  },
  {
   "cell_type": "code",
   "execution_count": 12,
   "metadata": {},
   "outputs": [],
   "source": [
    "#sqtl"
   ]
  },
  {
   "cell_type": "code",
   "execution_count": 13,
   "metadata": {},
   "outputs": [
    {
     "name": "stdout",
     "output_type": "stream",
     "text": [
      "(9909, 2)\n"
     ]
    }
   ],
   "source": [
    "homoeolog = pd.read_csv(\"homoeolog_genes_of_sGenes.txt\")\n",
    "homoeolog.dropna(subset = [\"Triticum_aestivum_homoeologue_gene_stable_ID\"], inplace=True)\n",
    "print(homoeolog.shape)\n",
    "#homoeolog.head(20)"
   ]
  },
  {
   "cell_type": "code",
   "execution_count": 14,
   "metadata": {},
   "outputs": [
    {
     "name": "stdout",
     "output_type": "stream",
     "text": [
      "5161\n",
      "8482\n",
      "2347\n"
     ]
    }
   ],
   "source": [
    "print(len(set(homoeolog.Gene_stable_ID)))#5161, NA containing rows were dropped so there are 5161 genes\n",
    "print(len(set(homoeolog.Triticum_aestivum_homoeologue_gene_stable_ID))) #8482\n",
    "\n",
    "# check if there are homoelog genes in the sGenes\n",
    "genes=[]\n",
    "for x in set(homoeolog.Triticum_aestivum_homoeologue_gene_stable_ID):\n",
    "    if x in set(homoeolog.Gene_stable_ID):\n",
    "        genes.append(x)\n",
    "\n",
    "\n",
    "        \n",
    "print(len(genes))#2347"
   ]
  },
  {
   "cell_type": "code",
   "execution_count": 16,
   "metadata": {},
   "outputs": [],
   "source": [
    "all = {}\n",
    "for k, v in sqtl.items(): \n",
    "    for i in v:\n",
    "        subset = homoeolog.loc[homoeolog[\"Gene_stable_ID\"] == i]\n",
    "        #print(subset.shape)\n",
    "        if subset.shape[0] > 0:\n",
    "            look = subset.Triticum_aestivum_homoeologue_gene_stable_ID\n",
    "            index = 0\n",
    "            for y in look:\n",
    "                rows = []\n",
    "                #print(subset.Gene_stable_ID)\n",
    "                if y[index] in set(subset.Gene_stable_ID):\n",
    "                    result = y[index]\n",
    "                    if len(result) > 0:\n",
    "                        loc = k\n",
    "                        rows.append([result])\n",
    "                        all[loc]=rows\n",
    "   \n",
    "\n",
    "\n",
    "#print(all)"
   ]
  },
  {
   "cell_type": "code",
   "execution_count": 17,
   "metadata": {},
   "outputs": [],
   "source": [
    "#df = pd.DataFrame(data, columns = ['colName1', 'ColName2']) \n",
    "rows = []\n",
    "for k, v in sqtl.items():\n",
    "    if len(v) > 1: \n",
    "        loc = k\n",
    "        num = len(v)\n",
    "        rows.append([loc, num])\n",
    "        #print(loc, num)\n",
    "        \n",
    "df = pd.DataFrame(rows, columns=[\"location\", \"gene_number\"])\n",
    "#df.head(12)"
   ]
  },
  {
   "cell_type": "code",
   "execution_count": 21,
   "metadata": {},
   "outputs": [
    {
     "data": {
      "text/plain": [
       "(831, 2)"
      ]
     },
     "execution_count": 21,
     "metadata": {},
     "output_type": "execute_result"
    }
   ],
   "source": [
    "df.shape"
   ]
  },
  {
   "cell_type": "code",
   "execution_count": 18,
   "metadata": {},
   "outputs": [],
   "source": [
    "df.sort_values(by=['gene_number'], inplace=True, ascending=False)\n",
    "#df.head(20)"
   ]
  },
  {
   "cell_type": "code",
   "execution_count": 19,
   "metadata": {},
   "outputs": [],
   "source": [
    "#df.iloc[100:105]"
   ]
  },
  {
   "cell_type": "code",
   "execution_count": 20,
   "metadata": {},
   "outputs": [],
   "source": [
    "#df.tail(2)"
   ]
  },
  {
   "cell_type": "code",
   "execution_count": 21,
   "metadata": {},
   "outputs": [],
   "source": [
    "#df[df.values == 3 ]\n",
    "#df[df.values == 6 ]"
   ]
  },
  {
   "cell_type": "code",
   "execution_count": 22,
   "metadata": {},
   "outputs": [],
   "source": [
    "#for i in sqtl[\"6B:111:111\"]:\n",
    "    #print(i)"
   ]
  },
  {
   "cell_type": "code",
   "execution_count": 23,
   "metadata": {},
   "outputs": [],
   "source": [
    "#for i in sqtl[\"4B:2:3\"]:\n",
    "    #print(i)\n"
   ]
  },
  {
   "cell_type": "code",
   "execution_count": 24,
   "metadata": {},
   "outputs": [],
   "source": [
    "B6_111_111 = pd.read_csv(\"6B_111_111.txt\")\n",
    "#B6_111_111"
   ]
  },
  {
   "cell_type": "code",
   "execution_count": 25,
   "metadata": {},
   "outputs": [
    {
     "name": "stdout",
     "output_type": "stream",
     "text": [
      "(191, 2)\n"
     ]
    },
    {
     "data": {
      "text/plain": [
       "97"
      ]
     },
     "execution_count": 25,
     "metadata": {},
     "output_type": "execute_result"
    }
   ],
   "source": [
    "print(B6_111_111.shape)\n",
    "len(B6_111_111.Gene_stable_ID.unique())"
   ]
  },
  {
   "cell_type": "code",
   "execution_count": 27,
   "metadata": {},
   "outputs": [],
   "source": [
    "p_rows = []\n",
    "n_rows = []\n",
    "for i in B6_111_111.Triticum_aestivum_homoeologue_gene_stable_ID:\n",
    "    if i in B6_111_111.Gene_stable_ID:\n",
    "        p_gene = i\n",
    "        p_rows.append([p_gene])\n",
    "    else:\n",
    "        n_gene = i       \n",
    "        n_rows.append([n_gene])\n",
    "\n",
    "#p_rows\n",
    "#n_rows\n",
    "#print(len(p_rows))\n",
    "#len(n_rows)"
   ]
  },
  {
   "cell_type": "code",
   "execution_count": 28,
   "metadata": {},
   "outputs": [],
   "source": [
    "# repeat the codes \n",
    "#for i in sqtl[\"2B:106.97984:107.38738\"]:\n",
    "    #print(i)"
   ]
  },
  {
   "cell_type": "code",
   "execution_count": 29,
   "metadata": {},
   "outputs": [],
   "source": [
    "B2_106_107 = pd.read_csv(\"2B_106.97984_107.38738.txt\")\n",
    "#B2_106_107"
   ]
  },
  {
   "cell_type": "code",
   "execution_count": 30,
   "metadata": {},
   "outputs": [
    {
     "name": "stdout",
     "output_type": "stream",
     "text": [
      "(260, 2)\n"
     ]
    },
    {
     "data": {
      "text/plain": [
       "136"
      ]
     },
     "execution_count": 30,
     "metadata": {},
     "output_type": "execute_result"
    }
   ],
   "source": [
    "print(B2_106_107.shape)\n",
    "len(B2_106_107.Gene_stable_ID.unique())"
   ]
  },
  {
   "cell_type": "code",
   "execution_count": 32,
   "metadata": {},
   "outputs": [
    {
     "name": "stdout",
     "output_type": "stream",
     "text": [
      "0\n"
     ]
    },
    {
     "data": {
      "text/plain": [
       "260"
      ]
     },
     "execution_count": 32,
     "metadata": {},
     "output_type": "execute_result"
    }
   ],
   "source": [
    "p_rows = []\n",
    "n_rows = []\n",
    "for i in B2_106_107.Triticum_aestivum_homoeologue_gene_stable_ID:\n",
    "    if i in B2_106_107.Gene_stable_ID:\n",
    "        p_gene = i\n",
    "        p_rows.append([p_gene])\n",
    "    else:\n",
    "        n_gene = i       \n",
    "        n_rows.append([n_gene])\n",
    "\n",
    "print(len(p_rows))\n",
    "len(n_rows)"
   ]
  },
  {
   "cell_type": "code",
   "execution_count": null,
   "metadata": {},
   "outputs": [
    {
     "data": {
      "text/plain": [
       "<AxesSubplot:xlabel='location', ylabel='gene_number'>"
      ]
     },
     "execution_count": 34,
     "metadata": {},
     "output_type": "execute_result"
    }
   ],
   "source": [
    "import matplotlib.pyplot as plt\n",
    "df.plot(kind='scatter',x='location',y='gene_number',color='red')\n",
    "#plt.show()"
   ]
  },
  {
   "cell_type": "code",
   "execution_count": null,
   "metadata": {},
   "outputs": [],
   "source": []
  }
 ],
 "metadata": {
  "kernelspec": {
   "display_name": "Python 3",
   "language": "python",
   "name": "python3"
  },
  "language_info": {
   "codemirror_mode": {
    "name": "ipython",
    "version": 3
   },
   "file_extension": ".py",
   "mimetype": "text/x-python",
   "name": "python",
   "nbconvert_exporter": "python",
   "pygments_lexer": "ipython3",
   "version": "3.8.2"
  }
 },
 "nbformat": 4,
 "nbformat_minor": 2
}
