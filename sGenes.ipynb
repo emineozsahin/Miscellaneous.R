{
 "cells": [
  {
   "cell_type": "code",
   "execution_count": 2,
   "metadata": {},
   "outputs": [
    {
     "data": {
      "text/plain": [
       "'1.1.1'"
      ]
     },
     "execution_count": 2,
     "metadata": {},
     "output_type": "execute_result"
    }
   ],
   "source": [
    "import pandas as pd\n",
    "pd.__version__"
   ]
  },
  {
   "cell_type": "code",
   "execution_count": 3,
   "metadata": {},
   "outputs": [],
   "source": [
    "sGenes = pd.read_csv(\"sGenes.csv\", header=0, index_col=0, quotechar='\"', sep=\",\", na_values=[\"nan\", \"-\", \".\", \" \", \"\", \"NA\"], delimiter=',')\n",
    "#sGenes.head()"
   ]
  },
  {
   "cell_type": "code",
   "execution_count": 3,
   "metadata": {},
   "outputs": [
    {
     "data": {
      "text/plain": [
       "(11249, 24)"
      ]
     },
     "execution_count": 3,
     "metadata": {},
     "output_type": "execute_result"
    }
   ],
   "source": [
    "sGenes.shape"
   ]
  },
  {
   "cell_type": "code",
   "execution_count": 4,
   "metadata": {},
   "outputs": [],
   "source": [
    "# I needed a file which has geneIDs to retrieve the homoeolog genes from Biomart\n",
    "sGenes.GeneID.to_csv('sgenes.txt', index=False)\n",
    "#for i in sGenes.GeneID.unique():\n",
    "    #print(i)"
   ]
  },
  {
   "cell_type": "code",
   "execution_count": 5,
   "metadata": {},
   "outputs": [
    {
     "data": {
      "text/plain": [
       "intron                 object\n",
       "AA                      int64\n",
       "BB                      int64\n",
       "A.pheno.mean          float64\n",
       "B.pheno.mean          float64\n",
       "effect                 object\n",
       "intron_chr             object\n",
       "intron_start            int64\n",
       "intron_end              int64\n",
       "qtl_chr                object\n",
       "qtl_start(bp)         float64\n",
       "qtl_end(bp)           float64\n",
       "lod                   float64\n",
       "intron_regions(bp)     object\n",
       "qtl_regions(bp)        object\n",
       "GeneID                 object\n",
       "qtl_pos(cM)           float64\n",
       "ci_lo(cM)             float64\n",
       "ci_hi(cM)             float64\n",
       "qtl_loc_pos            object\n",
       "qtl_loc(ci_lo/hi)      object\n",
       "clusterID              object\n",
       "qtl_type               object\n",
       "additive_effect       float64\n",
       "dtype: object"
      ]
     },
     "execution_count": 5,
     "metadata": {},
     "output_type": "execute_result"
    }
   ],
   "source": [
    "sGenes.dtypes"
   ]
  },
  {
   "cell_type": "code",
   "execution_count": 6,
   "metadata": {},
   "outputs": [
    {
     "data": {
      "text/plain": [
       "intron                   0\n",
       "AA                       0\n",
       "BB                       0\n",
       "A.pheno.mean           484\n",
       "B.pheno.mean             0\n",
       "effect                 484\n",
       "intron_chr               0\n",
       "intron_start             0\n",
       "intron_end               0\n",
       "qtl_chr                  0\n",
       "qtl_start(bp)         1104\n",
       "qtl_end(bp)           1104\n",
       "lod                      0\n",
       "intron_regions(bp)       0\n",
       "qtl_regions(bp)          0\n",
       "GeneID                   0\n",
       "qtl_pos(cM)              0\n",
       "ci_lo(cM)                0\n",
       "ci_hi(cM)                0\n",
       "qtl_loc_pos              0\n",
       "qtl_loc(ci_lo/hi)        0\n",
       "clusterID                0\n",
       "qtl_type               173\n",
       "additive_effect        484\n",
       "dtype: int64"
      ]
     },
     "execution_count": 6,
     "metadata": {},
     "output_type": "execute_result"
    }
   ],
   "source": [
    "sGenes.isnull().sum()"
   ]
  },
  {
   "cell_type": "code",
   "execution_count": 7,
   "metadata": {},
   "outputs": [
    {
     "data": {
      "text/html": [
       "<div>\n",
       "<style scoped>\n",
       "    .dataframe tbody tr th:only-of-type {\n",
       "        vertical-align: middle;\n",
       "    }\n",
       "\n",
       "    .dataframe tbody tr th {\n",
       "        vertical-align: top;\n",
       "    }\n",
       "\n",
       "    .dataframe thead th {\n",
       "        text-align: right;\n",
       "    }\n",
       "</style>\n",
       "<table border=\"1\" class=\"dataframe\">\n",
       "  <thead>\n",
       "    <tr style=\"text-align: right;\">\n",
       "      <th></th>\n",
       "      <th>intron</th>\n",
       "      <th>AA</th>\n",
       "      <th>BB</th>\n",
       "      <th>A.pheno.mean</th>\n",
       "      <th>B.pheno.mean</th>\n",
       "      <th>effect</th>\n",
       "      <th>intron_chr</th>\n",
       "      <th>intron_start</th>\n",
       "      <th>intron_end</th>\n",
       "      <th>qtl_chr</th>\n",
       "      <th>...</th>\n",
       "      <th>qtl_regions(bp)</th>\n",
       "      <th>GeneID</th>\n",
       "      <th>qtl_pos(cM)</th>\n",
       "      <th>ci_lo(cM)</th>\n",
       "      <th>ci_hi(cM)</th>\n",
       "      <th>qtl_loc_pos</th>\n",
       "      <th>qtl_loc(ci_lo/hi)</th>\n",
       "      <th>clusterID</th>\n",
       "      <th>qtl_type</th>\n",
       "      <th>additive_effect</th>\n",
       "    </tr>\n",
       "  </thead>\n",
       "  <tbody>\n",
       "    <tr>\n",
       "      <th>2</th>\n",
       "      <td>1:10066484:10067155:clu_81585</td>\n",
       "      <td>45</td>\n",
       "      <td>91</td>\n",
       "      <td>-0.475814</td>\n",
       "      <td>0.122560</td>\n",
       "      <td>BB</td>\n",
       "      <td>1A</td>\n",
       "      <td>10066484</td>\n",
       "      <td>10067155</td>\n",
       "      <td>5A</td>\n",
       "      <td>...</td>\n",
       "      <td>5A:1109014:681212269</td>\n",
       "      <td>TraesCS1A02G020500</td>\n",
       "      <td>16.35176</td>\n",
       "      <td>0.00000</td>\n",
       "      <td>24.79067</td>\n",
       "      <td>5A:16.35176</td>\n",
       "      <td>5A:0:24.79067</td>\n",
       "      <td>clu_81585</td>\n",
       "      <td>trans</td>\n",
       "      <td>0.299187</td>\n",
       "    </tr>\n",
       "    <tr>\n",
       "      <th>3</th>\n",
       "      <td>1:10066710:10067155:clu_81585</td>\n",
       "      <td>30</td>\n",
       "      <td>16</td>\n",
       "      <td>-0.43183</td>\n",
       "      <td>0.522408</td>\n",
       "      <td>BB</td>\n",
       "      <td>1A</td>\n",
       "      <td>10066710</td>\n",
       "      <td>10067155</td>\n",
       "      <td>7D</td>\n",
       "      <td>...</td>\n",
       "      <td>7D:103573419:113322585</td>\n",
       "      <td>TraesCS1A02G020500</td>\n",
       "      <td>73.70748</td>\n",
       "      <td>72.00000</td>\n",
       "      <td>74.00000</td>\n",
       "      <td>7D:73.70748</td>\n",
       "      <td>7D:72:74</td>\n",
       "      <td>clu_81585</td>\n",
       "      <td>trans</td>\n",
       "      <td>0.477119</td>\n",
       "    </tr>\n",
       "    <tr>\n",
       "      <th>13</th>\n",
       "      <td>1:103324205:103324276:clu_82215</td>\n",
       "      <td>0</td>\n",
       "      <td>1</td>\n",
       "      <td>NA</td>\n",
       "      <td>-3.589248</td>\n",
       "      <td>NA</td>\n",
       "      <td>1A</td>\n",
       "      <td>103324205</td>\n",
       "      <td>103324276</td>\n",
       "      <td>6B</td>\n",
       "      <td>...</td>\n",
       "      <td>6B:NA:NA</td>\n",
       "      <td>TraesCS1A02G106100</td>\n",
       "      <td>111.00000</td>\n",
       "      <td>111.00000</td>\n",
       "      <td>111.00000</td>\n",
       "      <td>6B:111</td>\n",
       "      <td>6B:111:111</td>\n",
       "      <td>clu_82215</td>\n",
       "      <td>trans</td>\n",
       "      <td>NA</td>\n",
       "    </tr>\n",
       "    <tr>\n",
       "      <th>14</th>\n",
       "      <td>1:103324205:103324276:clu_82215</td>\n",
       "      <td>0</td>\n",
       "      <td>3</td>\n",
       "      <td>NA</td>\n",
       "      <td>-1.921536</td>\n",
       "      <td>NA</td>\n",
       "      <td>1A</td>\n",
       "      <td>103324205</td>\n",
       "      <td>103324276</td>\n",
       "      <td>5B</td>\n",
       "      <td>...</td>\n",
       "      <td>5B:NA:NA</td>\n",
       "      <td>TraesCS1A02G106100</td>\n",
       "      <td>20.00000</td>\n",
       "      <td>20.00000</td>\n",
       "      <td>20.00000</td>\n",
       "      <td>5B:20</td>\n",
       "      <td>5B:20:20</td>\n",
       "      <td>clu_82215</td>\n",
       "      <td>trans</td>\n",
       "      <td>NA</td>\n",
       "    </tr>\n",
       "    <tr>\n",
       "      <th>15</th>\n",
       "      <td>1:103324205:103324276:clu_82215</td>\n",
       "      <td>1</td>\n",
       "      <td>5</td>\n",
       "      <td>0.35484</td>\n",
       "      <td>-1.043190</td>\n",
       "      <td>AA</td>\n",
       "      <td>1A</td>\n",
       "      <td>103324205</td>\n",
       "      <td>103324276</td>\n",
       "      <td>2A</td>\n",
       "      <td>...</td>\n",
       "      <td>2A:371904:543454724</td>\n",
       "      <td>TraesCS1A02G106100</td>\n",
       "      <td>58.00000</td>\n",
       "      <td>0.00000</td>\n",
       "      <td>87.97407</td>\n",
       "      <td>2A:58</td>\n",
       "      <td>2A:0:87.97407</td>\n",
       "      <td>clu_82215</td>\n",
       "      <td>trans</td>\n",
       "      <td>0.699015</td>\n",
       "    </tr>\n",
       "    <tr>\n",
       "      <th>...</th>\n",
       "      <td>...</td>\n",
       "      <td>...</td>\n",
       "      <td>...</td>\n",
       "      <td>...</td>\n",
       "      <td>...</td>\n",
       "      <td>...</td>\n",
       "      <td>...</td>\n",
       "      <td>...</td>\n",
       "      <td>...</td>\n",
       "      <td>...</td>\n",
       "      <td>...</td>\n",
       "      <td>...</td>\n",
       "      <td>...</td>\n",
       "      <td>...</td>\n",
       "      <td>...</td>\n",
       "      <td>...</td>\n",
       "      <td>...</td>\n",
       "      <td>...</td>\n",
       "      <td>...</td>\n",
       "      <td>...</td>\n",
       "      <td>...</td>\n",
       "    </tr>\n",
       "    <tr>\n",
       "      <th>25648</th>\n",
       "      <td>9:99761674:99761923:clu_21604</td>\n",
       "      <td>84</td>\n",
       "      <td>71</td>\n",
       "      <td>0.774047</td>\n",
       "      <td>-1.166456</td>\n",
       "      <td>AA</td>\n",
       "      <td>2B</td>\n",
       "      <td>99761674</td>\n",
       "      <td>99761923</td>\n",
       "      <td>2B</td>\n",
       "      <td>...</td>\n",
       "      <td>2B:93192606:105816691</td>\n",
       "      <td>TraesCS2B02G133300</td>\n",
       "      <td>104.00000</td>\n",
       "      <td>102.00000</td>\n",
       "      <td>105.00000</td>\n",
       "      <td>2B:104</td>\n",
       "      <td>2B:102:105</td>\n",
       "      <td>clu_21604</td>\n",
       "      <td>cis</td>\n",
       "      <td>0.970251</td>\n",
       "    </tr>\n",
       "    <tr>\n",
       "      <th>25649</th>\n",
       "      <td>9:99761674:99761923:clu_21604</td>\n",
       "      <td>62</td>\n",
       "      <td>50</td>\n",
       "      <td>0.718555</td>\n",
       "      <td>-0.951433</td>\n",
       "      <td>AA</td>\n",
       "      <td>2B</td>\n",
       "      <td>99761674</td>\n",
       "      <td>99761923</td>\n",
       "      <td>Un</td>\n",
       "      <td>...</td>\n",
       "      <td>Un:1221190:475278319</td>\n",
       "      <td>TraesCS2B02G133300</td>\n",
       "      <td>140.25399</td>\n",
       "      <td>0.00000</td>\n",
       "      <td>215.88893</td>\n",
       "      <td>Un:140.25399</td>\n",
       "      <td>Un:0:215.88893</td>\n",
       "      <td>clu_21604</td>\n",
       "      <td>trans</td>\n",
       "      <td>0.834994</td>\n",
       "    </tr>\n",
       "    <tr>\n",
       "      <th>25650</th>\n",
       "      <td>9:99764438:99765244:clu_21605</td>\n",
       "      <td>69</td>\n",
       "      <td>86</td>\n",
       "      <td>-0.54036</td>\n",
       "      <td>0.267829</td>\n",
       "      <td>BB</td>\n",
       "      <td>2B</td>\n",
       "      <td>99764438</td>\n",
       "      <td>99765244</td>\n",
       "      <td>2B</td>\n",
       "      <td>...</td>\n",
       "      <td>2B:67219192:683217702</td>\n",
       "      <td>TraesCS2B02G133300</td>\n",
       "      <td>97.26046</td>\n",
       "      <td>89.00000</td>\n",
       "      <td>116.79343</td>\n",
       "      <td>2B:97.26046</td>\n",
       "      <td>2B:89:116.79343</td>\n",
       "      <td>clu_21605</td>\n",
       "      <td>cis</td>\n",
       "      <td>0.404094</td>\n",
       "    </tr>\n",
       "    <tr>\n",
       "      <th>25651</th>\n",
       "      <td>9:99765154:99765244:clu_21605</td>\n",
       "      <td>82</td>\n",
       "      <td>73</td>\n",
       "      <td>0.368474</td>\n",
       "      <td>-0.452360</td>\n",
       "      <td>AA</td>\n",
       "      <td>2B</td>\n",
       "      <td>99765154</td>\n",
       "      <td>99765244</td>\n",
       "      <td>2B</td>\n",
       "      <td>...</td>\n",
       "      <td>2B:71604429:683217702</td>\n",
       "      <td>TraesCS2B02G133300</td>\n",
       "      <td>97.98664</td>\n",
       "      <td>91.48242</td>\n",
       "      <td>132.66985</td>\n",
       "      <td>2B:97.98664</td>\n",
       "      <td>2B:91.48242:132.66985</td>\n",
       "      <td>clu_21605</td>\n",
       "      <td>cis</td>\n",
       "      <td>0.410417</td>\n",
       "    </tr>\n",
       "    <tr>\n",
       "      <th>25652</th>\n",
       "      <td>9:99765154:99765244:clu_21605</td>\n",
       "      <td>68</td>\n",
       "      <td>87</td>\n",
       "      <td>0.419379</td>\n",
       "      <td>-0.331614</td>\n",
       "      <td>AA</td>\n",
       "      <td>2B</td>\n",
       "      <td>99765154</td>\n",
       "      <td>99765244</td>\n",
       "      <td>5A</td>\n",
       "      <td>...</td>\n",
       "      <td>5A:1109014:681212269</td>\n",
       "      <td>TraesCS2B02G133300</td>\n",
       "      <td>17.43545</td>\n",
       "      <td>0.00000</td>\n",
       "      <td>24.79067</td>\n",
       "      <td>5A:17.43545</td>\n",
       "      <td>5A:0:24.79067</td>\n",
       "      <td>clu_21605</td>\n",
       "      <td>trans</td>\n",
       "      <td>0.375496</td>\n",
       "    </tr>\n",
       "  </tbody>\n",
       "</table>\n",
       "<p>11249 rows × 24 columns</p>\n",
       "</div>"
      ],
      "text/plain": [
       "                                intron  AA  BB A.pheno.mean  B.pheno.mean  \\\n",
       "2        1:10066484:10067155:clu_81585  45  91    -0.475814      0.122560   \n",
       "3        1:10066710:10067155:clu_81585  30  16     -0.43183      0.522408   \n",
       "13     1:103324205:103324276:clu_82215   0   1           NA     -3.589248   \n",
       "14     1:103324205:103324276:clu_82215   0   3           NA     -1.921536   \n",
       "15     1:103324205:103324276:clu_82215   1   5      0.35484     -1.043190   \n",
       "...                                ...  ..  ..          ...           ...   \n",
       "25648    9:99761674:99761923:clu_21604  84  71     0.774047     -1.166456   \n",
       "25649    9:99761674:99761923:clu_21604  62  50     0.718555     -0.951433   \n",
       "25650    9:99764438:99765244:clu_21605  69  86     -0.54036      0.267829   \n",
       "25651    9:99765154:99765244:clu_21605  82  73     0.368474     -0.452360   \n",
       "25652    9:99765154:99765244:clu_21605  68  87     0.419379     -0.331614   \n",
       "\n",
       "      effect intron_chr  intron_start  intron_end qtl_chr  ...  \\\n",
       "2         BB         1A      10066484    10067155      5A  ...   \n",
       "3         BB         1A      10066710    10067155      7D  ...   \n",
       "13        NA         1A     103324205   103324276      6B  ...   \n",
       "14        NA         1A     103324205   103324276      5B  ...   \n",
       "15        AA         1A     103324205   103324276      2A  ...   \n",
       "...      ...        ...           ...         ...     ...  ...   \n",
       "25648     AA         2B      99761674    99761923      2B  ...   \n",
       "25649     AA         2B      99761674    99761923      Un  ...   \n",
       "25650     BB         2B      99764438    99765244      2B  ...   \n",
       "25651     AA         2B      99765154    99765244      2B  ...   \n",
       "25652     AA         2B      99765154    99765244      5A  ...   \n",
       "\n",
       "              qtl_regions(bp)              GeneID  qtl_pos(cM)  ci_lo(cM)  \\\n",
       "2        5A:1109014:681212269  TraesCS1A02G020500     16.35176    0.00000   \n",
       "3      7D:103573419:113322585  TraesCS1A02G020500     73.70748   72.00000   \n",
       "13                   6B:NA:NA  TraesCS1A02G106100    111.00000  111.00000   \n",
       "14                   5B:NA:NA  TraesCS1A02G106100     20.00000   20.00000   \n",
       "15        2A:371904:543454724  TraesCS1A02G106100     58.00000    0.00000   \n",
       "...                       ...                 ...          ...        ...   \n",
       "25648   2B:93192606:105816691  TraesCS2B02G133300    104.00000  102.00000   \n",
       "25649    Un:1221190:475278319  TraesCS2B02G133300    140.25399    0.00000   \n",
       "25650   2B:67219192:683217702  TraesCS2B02G133300     97.26046   89.00000   \n",
       "25651   2B:71604429:683217702  TraesCS2B02G133300     97.98664   91.48242   \n",
       "25652    5A:1109014:681212269  TraesCS2B02G133300     17.43545    0.00000   \n",
       "\n",
       "       ci_hi(cM)   qtl_loc_pos      qtl_loc(ci_lo/hi)  clusterID  qtl_type  \\\n",
       "2       24.79067   5A:16.35176          5A:0:24.79067  clu_81585     trans   \n",
       "3       74.00000   7D:73.70748               7D:72:74  clu_81585     trans   \n",
       "13     111.00000        6B:111             6B:111:111  clu_82215     trans   \n",
       "14      20.00000         5B:20               5B:20:20  clu_82215     trans   \n",
       "15      87.97407         2A:58          2A:0:87.97407  clu_82215     trans   \n",
       "...          ...           ...                    ...        ...       ...   \n",
       "25648  105.00000        2B:104             2B:102:105  clu_21604       cis   \n",
       "25649  215.88893  Un:140.25399         Un:0:215.88893  clu_21604     trans   \n",
       "25650  116.79343   2B:97.26046        2B:89:116.79343  clu_21605       cis   \n",
       "25651  132.66985   2B:97.98664  2B:91.48242:132.66985  clu_21605       cis   \n",
       "25652   24.79067   5A:17.43545          5A:0:24.79067  clu_21605     trans   \n",
       "\n",
       "      additive_effect  \n",
       "2            0.299187  \n",
       "3            0.477119  \n",
       "13                 NA  \n",
       "14                 NA  \n",
       "15           0.699015  \n",
       "...               ...  \n",
       "25648        0.970251  \n",
       "25649        0.834994  \n",
       "25650        0.404094  \n",
       "25651        0.410417  \n",
       "25652        0.375496  \n",
       "\n",
       "[11249 rows x 24 columns]"
      ]
     },
     "execution_count": 7,
     "metadata": {},
     "output_type": "execute_result"
    }
   ],
   "source": [
    "sGenes = sGenes.fillna(\"NA\")\n",
    "sGenes"
   ]
  },
  {
   "cell_type": "code",
   "execution_count": 8,
   "metadata": {},
   "outputs": [
    {
     "name": "stdout",
     "output_type": "stream",
     "text": [
      "intron                0\n",
      "AA                    0\n",
      "BB                    0\n",
      "A.pheno.mean          0\n",
      "B.pheno.mean          0\n",
      "effect                0\n",
      "intron_chr            0\n",
      "intron_start          0\n",
      "intron_end            0\n",
      "qtl_chr               0\n",
      "qtl_start(bp)         0\n",
      "qtl_end(bp)           0\n",
      "lod                   0\n",
      "intron_regions(bp)    0\n",
      "qtl_regions(bp)       0\n",
      "GeneID                0\n",
      "qtl_pos(cM)           0\n",
      "ci_lo(cM)             0\n",
      "ci_hi(cM)             0\n",
      "qtl_loc_pos           0\n",
      "qtl_loc(ci_lo/hi)     0\n",
      "clusterID             0\n",
      "qtl_type              0\n",
      "additive_effect       0\n",
      "dtype: int64\n"
     ]
    }
   ],
   "source": [
    "print(sGenes.isnull().sum())"
   ]
  },
  {
   "cell_type": "code",
   "execution_count": 9,
   "metadata": {},
   "outputs": [],
   "source": [
    "DEGs = []\n",
    "keys = sGenes.to_dict('records')"
   ]
  },
  {
   "cell_type": "code",
   "execution_count": 10,
   "metadata": {},
   "outputs": [
    {
     "data": {
      "text/plain": [
       "Index(['intron', 'AA', 'BB', 'A.pheno.mean', 'B.pheno.mean', 'effect',\n",
       "       'intron_chr', 'intron_start', 'intron_end', 'qtl_chr', 'qtl_start(bp)',\n",
       "       'qtl_end(bp)', 'lod', 'intron_regions(bp)', 'qtl_regions(bp)', 'GeneID',\n",
       "       'qtl_pos(cM)', 'ci_lo(cM)', 'ci_hi(cM)', 'qtl_loc_pos',\n",
       "       'qtl_loc(ci_lo/hi)', 'clusterID', 'qtl_type', 'additive_effect'],\n",
       "      dtype='object')"
      ]
     },
     "execution_count": 10,
     "metadata": {},
     "output_type": "execute_result"
    }
   ],
   "source": [
    "sGenes.columns"
   ]
  },
  {
   "cell_type": "code",
   "execution_count": 4,
   "metadata": {},
   "outputs": [],
   "source": [
    "sGenes_loc = sGenes[[\"GeneID\", \"qtl_loc(ci_lo/hi)\"]]\n",
    "#sGenes_loc"
   ]
  },
  {
   "cell_type": "code",
   "execution_count": 5,
   "metadata": {},
   "outputs": [],
   "source": [
    "sGenes_loc.columns = ['Genes', 'location']\n",
    "#sGenes_loc.drop_duplicates()"
   ]
  },
  {
   "cell_type": "code",
   "execution_count": 6,
   "metadata": {},
   "outputs": [],
   "source": [
    "sqtl={}\n",
    "for i in range(len(sGenes_loc.location.unique())): \n",
    "    keys = sGenes_loc.location.unique()\n",
    "    subset = sGenes_loc.loc[sGenes_loc[\"location\"] == keys[i]]\n",
    "    values = subset[\"Genes\"].tolist()\n",
    "    values = set(values)\n",
    "    sqtl[keys[i]] = values   "
   ]
  },
  {
   "cell_type": "code",
   "execution_count": 9,
   "metadata": {},
   "outputs": [],
   "source": [
    "sqtl = dict(sorted(sqtl.items()))\n",
    "#sqtl\n",
    "#print(list(sqtl.keys())[11]) \n",
    "#list(sqtl.values())[11] "
   ]
  },
  {
   "cell_type": "code",
   "execution_count": 10,
   "metadata": {},
   "outputs": [],
   "source": [
    "#sqtl[\"2B:0:107.38738\"]"
   ]
  },
  {
   "cell_type": "code",
   "execution_count": 11,
   "metadata": {},
   "outputs": [],
   "source": [
    "#for x in sqtl[\"4B:0:0\"]:\n",
    "    #print(x)"
   ]
  },
  {
   "cell_type": "code",
   "execution_count": 12,
   "metadata": {},
   "outputs": [],
   "source": [
    "#sqtl"
   ]
  },
  {
   "cell_type": "code",
   "execution_count": 13,
   "metadata": {},
   "outputs": [
    {
     "name": "stdout",
     "output_type": "stream",
     "text": [
      "(9909, 2)\n"
     ]
    }
   ],
   "source": [
    "homoeolog = pd.read_csv(\"homoeolog_genes_of_sGenes.txt\")\n",
    "homoeolog.dropna(subset = [\"Triticum_aestivum_homoeologue_gene_stable_ID\"], inplace=True)\n",
    "print(homoeolog.shape)\n",
    "#homoeolog.head(20)"
   ]
  },
  {
   "cell_type": "code",
   "execution_count": 14,
   "metadata": {},
   "outputs": [
    {
     "name": "stdout",
     "output_type": "stream",
     "text": [
      "5161\n",
      "8482\n",
      "2347\n"
     ]
    }
   ],
   "source": [
    "print(len(set(homoeolog.Gene_stable_ID)))#5161, NA containing rows were dropped so there are 5161 genes\n",
    "print(len(set(homoeolog.Triticum_aestivum_homoeologue_gene_stable_ID))) #8482\n",
    "\n",
    "# check if there are homoelog genes in the sGenes\n",
    "genes=[]\n",
    "for x in set(homoeolog.Triticum_aestivum_homoeologue_gene_stable_ID):\n",
    "    if x in set(homoeolog.Gene_stable_ID):\n",
    "        genes.append(x)\n",
    "\n",
    "\n",
    "        \n",
    "print(len(genes))#2347"
   ]
  },
  {
   "cell_type": "code",
   "execution_count": 16,
   "metadata": {},
   "outputs": [],
   "source": [
    "all = {}\n",
    "for k, v in sqtl.items(): \n",
    "    for i in v:\n",
    "        subset = homoeolog.loc[homoeolog[\"Gene_stable_ID\"] == i]\n",
    "        #print(subset.shape)\n",
    "        if subset.shape[0] > 0:\n",
    "            look = subset.Triticum_aestivum_homoeologue_gene_stable_ID\n",
    "            index = 0\n",
    "            for y in look:\n",
    "                rows = []\n",
    "                #print(subset.Gene_stable_ID)\n",
    "                if y[index] in set(subset.Gene_stable_ID):\n",
    "                    result = y[index]\n",
    "                    if len(result) > 0:\n",
    "                        loc = k\n",
    "                        rows.append([result])\n",
    "                        all[loc]=rows\n",
    "   \n",
    "\n",
    "\n",
    "#print(all)"
   ]
  },
  {
   "cell_type": "code",
   "execution_count": 17,
   "metadata": {},
   "outputs": [],
   "source": [
    "#df = pd.DataFrame(data, columns = ['colName1', 'ColName2']) \n",
    "rows = []\n",
    "for k, v in sqtl.items():\n",
    "    if len(v) > 1: \n",
    "        loc = k\n",
    "        num = len(v)\n",
    "        rows.append([loc, num])\n",
    "        #print(loc, num)\n",
    "        \n",
    "df = pd.DataFrame(rows, columns=[\"location\", \"gene_number\"])\n",
    "#df.head(12)"
   ]
  },
  {
   "cell_type": "code",
   "execution_count": 21,
   "metadata": {},
   "outputs": [
    {
     "data": {
      "text/plain": [
       "(831, 2)"
      ]
     },
     "execution_count": 21,
     "metadata": {},
     "output_type": "execute_result"
    }
   ],
   "source": [
    "df.shape"
   ]
  },
  {
   "cell_type": "code",
   "execution_count": 18,
   "metadata": {},
   "outputs": [],
   "source": [
    "df.sort_values(by=['gene_number'], inplace=True, ascending=False)\n",
    "#df.head(20)"
   ]
  },
  {
   "cell_type": "code",
   "execution_count": 19,
   "metadata": {},
   "outputs": [],
   "source": [
    "#df.iloc[100:105]"
   ]
  },
  {
   "cell_type": "code",
   "execution_count": 20,
   "metadata": {},
   "outputs": [],
   "source": [
    "#df.tail(2)"
   ]
  },
  {
   "cell_type": "code",
   "execution_count": 21,
   "metadata": {},
   "outputs": [],
   "source": [
    "#df[df.values == 3 ]\n",
    "#df[df.values == 6 ]"
   ]
  },
  {
   "cell_type": "code",
   "execution_count": 22,
   "metadata": {},
   "outputs": [],
   "source": [
    "#for i in sqtl[\"6B:111:111\"]:\n",
    "    #print(i)"
   ]
  },
  {
   "cell_type": "code",
   "execution_count": 23,
   "metadata": {},
   "outputs": [],
   "source": [
    "#for i in sqtl[\"4B:2:3\"]:\n",
    "    #print(i)\n"
   ]
  },
  {
   "cell_type": "code",
   "execution_count": 24,
   "metadata": {},
   "outputs": [],
   "source": [
    "B6_111_111 = pd.read_csv(\"6B_111_111.txt\")\n",
    "#B6_111_111"
   ]
  },
  {
   "cell_type": "code",
   "execution_count": 25,
   "metadata": {},
   "outputs": [
    {
     "name": "stdout",
     "output_type": "stream",
     "text": [
      "(191, 2)\n"
     ]
    },
    {
     "data": {
      "text/plain": [
       "97"
      ]
     },
     "execution_count": 25,
     "metadata": {},
     "output_type": "execute_result"
    }
   ],
   "source": [
    "print(B6_111_111.shape)\n",
    "len(B6_111_111.Gene_stable_ID.unique())"
   ]
  },
  {
   "cell_type": "code",
   "execution_count": 27,
   "metadata": {},
   "outputs": [],
   "source": [
    "p_rows = []\n",
    "n_rows = []\n",
    "for i in B6_111_111.Triticum_aestivum_homoeologue_gene_stable_ID:\n",
    "    if i in B6_111_111.Gene_stable_ID:\n",
    "        p_gene = i\n",
    "        p_rows.append([p_gene])\n",
    "    else:\n",
    "        n_gene = i       \n",
    "        n_rows.append([n_gene])\n",
    "\n",
    "#p_rows\n",
    "#n_rows\n",
    "#print(len(p_rows))\n",
    "#len(n_rows)"
   ]
  },
  {
   "cell_type": "code",
   "execution_count": 28,
   "metadata": {},
   "outputs": [],
   "source": [
    "# repeat the codes \n",
    "#for i in sqtl[\"2B:106.97984:107.38738\"]:\n",
    "    #print(i)"
   ]
  },
  {
   "cell_type": "code",
   "execution_count": 29,
   "metadata": {},
   "outputs": [],
   "source": [
    "B2_106_107 = pd.read_csv(\"2B_106.97984_107.38738.txt\")\n",
    "#B2_106_107"
   ]
  },
  {
   "cell_type": "code",
   "execution_count": 30,
   "metadata": {},
   "outputs": [
    {
     "name": "stdout",
     "output_type": "stream",
     "text": [
      "(260, 2)\n"
     ]
    },
    {
     "data": {
      "text/plain": [
       "136"
      ]
     },
     "execution_count": 30,
     "metadata": {},
     "output_type": "execute_result"
    }
   ],
   "source": [
    "print(B2_106_107.shape)\n",
    "len(B2_106_107.Gene_stable_ID.unique())"
   ]
  },
  {
   "cell_type": "code",
   "execution_count": 32,
   "metadata": {},
   "outputs": [
    {
     "name": "stdout",
     "output_type": "stream",
     "text": [
      "0\n"
     ]
    },
    {
     "data": {
      "text/plain": [
       "260"
      ]
     },
     "execution_count": 32,
     "metadata": {},
     "output_type": "execute_result"
    }
   ],
   "source": [
    "p_rows = []\n",
    "n_rows = []\n",
    "for i in B2_106_107.Triticum_aestivum_homoeologue_gene_stable_ID:\n",
    "    if i in B2_106_107.Gene_stable_ID:\n",
    "        p_gene = i\n",
    "        p_rows.append([p_gene])\n",
    "    else:\n",
    "        n_gene = i       \n",
    "        n_rows.append([n_gene])\n",
    "\n",
    "print(len(p_rows))\n",
    "len(n_rows)"
   ]
  },
  {
   "cell_type": "code",
   "execution_count": 160,
   "metadata": {},
   "outputs": [
    {
     "data": {
      "image/png": "[encoded data removed]",
      "text/plain": [
       "<Figure size 432x288 with 1 Axes>"
      ]
     },
     "metadata": {
      "needs_background": "light"
     },
     "output_type": "display_data"
    }
   ],
   "source": [
    "import matplotlib.pyplot as plt\n",
    "df.plot(kind='scatter',x='location',y='gene_number',color='red')\n",
    "plt.show()"
   ]
  }
 ],
 "metadata": {
  "kernelspec": {
   "display_name": "Python 3",
   "language": "python",
   "name": "python3"
  },
  "language_info": {
   "codemirror_mode": {
    "name": "ipython",
    "version": 3
   },
   "file_extension": ".py",
   "mimetype": "text/x-python",
   "name": "python",
   "nbconvert_exporter": "python",
   "pygments_lexer": "ipython3",
   "version": "3.8.2"
  }
 },
 "nbformat": 4,
 "nbformat_minor": 2
}
